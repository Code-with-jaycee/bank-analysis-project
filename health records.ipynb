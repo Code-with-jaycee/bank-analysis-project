{
 "cells": [
  {
   "cell_type": "code",
   "execution_count": 4,
   "id": "c8a8f67d",
   "metadata": {},
   "outputs": [
    {
     "name": "stdout",
     "output_type": "stream",
     "text": [
      "   Category                                          Line Item  Fiscal Year  \\\n",
      "0   Assets            Due from Banks - Unrestricted currencies         2010   \n",
      "1   Assets            Due from Banks - Unrestricted currencies         2009   \n",
      "2   Assets   Due from Banks - Currencies subject to restric...         2010   \n",
      "3   Assets   Due from Banks - Currencies subject to restric...         2009   \n",
      "4   Assets                               Investments - Trading         2010   \n",
      "..      ...                                                ...          ...   \n",
      "57   Equity  Deferred Amounts to Maintain Value of Currency...         2009   \n",
      "58   Equity                                  Retained Earnings         2010   \n",
      "59   Equity                                  Retained Earnings         2009   \n",
      "60   Equity               Accumulated Other Comprehensive Loss         2010   \n",
      "61   Equity               Accumulated Other Comprehensive Loss         2009   \n",
      "\n",
      "    Amount (US$, Millions)  \n",
      "0                   1581.0  \n",
      "1                   2380.0  \n",
      "2                    222.0  \n",
      "3                    664.0  \n",
      "4                  36012.0  \n",
      "..                     ...  \n",
      "57                   359.0  \n",
      "58                 28793.0  \n",
      "59                 29870.0  \n",
      "60                 -3043.0  \n",
      "61                 -1683.0  \n",
      "\n",
      "[61 rows x 4 columns]\n"
     ]
    }
   ],
   "source": [
    "import numpy as np\n",
    "import pandas as pd\n",
    "\n",
    "health_data = pd.read_csv(\"IBRD_Balance_Sheet__FY2010.csv\", header=0, sep=\",\")\n",
    "health_data.dropna(axis=0, inplace=True)\n",
    "print(health_data)\n"
   ]
  },
  {
   "cell_type": "code",
   "execution_count": 5,
   "id": "f34f9c31",
   "metadata": {},
   "outputs": [
    {
     "name": "stdout",
     "output_type": "stream",
     "text": [
      "       Fiscal Year  Amount (US$, Millions)\n",
      "count    61.000000               61.000000\n",
      "mean   2009.491803            18309.180328\n",
      "std       0.504082            33388.603554\n",
      "min    2009.000000            -3043.000000\n",
      "25%    2009.000000              625.000000\n",
      "50%    2009.000000             1581.000000\n",
      "75%    2010.000000            18467.000000\n",
      "max    2010.000000           128577.000000\n",
      "Hello\n"
     ]
    }
   ],
   "source": [
    "# health_data[\"Category\"] = health_data[\"Category\"].astype(float)\n",
    "# health_data[\"Line Item\"] = health_data[\"Line Item\"].astype(float)\n",
    "print(health_data.describe())\n",
    "print(\"Hello\")\n",
    "# print(health_data)"
   ]
  },
  {
   "cell_type": "code",
   "execution_count": null,
   "id": "6da9e5a9",
   "metadata": {},
   "outputs": [],
   "source": []
  }
 ],
 "metadata": {
  "kernelspec": {
   "display_name": "Python 3 (ipykernel)",
   "language": "python",
   "name": "python3"
  },
  "language_info": {
   "codemirror_mode": {
    "name": "ipython",
    "version": 3
   },
   "file_extension": ".py",
   "mimetype": "text/x-python",
   "name": "python",
   "nbconvert_exporter": "python",
   "pygments_lexer": "ipython3",
   "version": "3.9.4"
  }
 },
 "nbformat": 4,
 "nbformat_minor": 5
}
