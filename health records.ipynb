{
 "cells": [
  {
   "cell_type": "code",
   "execution_count": 3,
   "id": "c8a8f67d",
   "metadata": {},
   "outputs": [
    {
     "name": "stdout",
     "output_type": "stream",
     "text": [
      "   Category                                          Line Item  Fiscal Year  \\\n",
      "0   Assets            Due from Banks - Unrestricted currencies         2010   \n",
      "1   Assets            Due from Banks - Unrestricted currencies         2009   \n",
      "2   Assets   Due from Banks - Currencies subject to restric...         2010   \n",
      "3   Assets   Due from Banks - Currencies subject to restric...         2009   \n",
      "4   Assets                               Investments - Trading         2010   \n",
      "..      ...                                                ...          ...   \n",
      "57   Equity  Deferred Amounts to Maintain Value of Currency...         2009   \n",
      "58   Equity                                  Retained Earnings         2010   \n",
      "59   Equity                                  Retained Earnings         2009   \n",
      "60   Equity               Accumulated Other Comprehensive Loss         2010   \n",
      "61   Equity               Accumulated Other Comprehensive Loss         2009   \n",
      "\n",
      "    Amount (US$, Millions)  \n",
      "0                   1581.0  \n",
      "1                   2380.0  \n",
      "2                    222.0  \n",
      "3                    664.0  \n",
      "4                  36012.0  \n",
      "..                     ...  \n",
      "57                   359.0  \n",
      "58                 28793.0  \n",
      "59                 29870.0  \n",
      "60                 -3043.0  \n",
      "61                 -1683.0  \n",
      "\n",
      "[61 rows x 4 columns]\n"
     ]
    }
   ],
   "source": [
    "import numpy as np\n",
    "import pandas as pd\n",
    "import matplotlib.pyplot as plt\n",
    "\n",
    "health_data = pd.read_csv(\"IBRD_Balance_Sheet__FY2010.csv\", header=0, sep=\",\")\n",
    "health_data.dropna(axis=0, inplace=True)\n",
    "print(health_data)\n"
   ]
  },
  {
   "cell_type": "code",
   "execution_count": 26,
   "id": "f34f9c31",
   "metadata": {},
   "outputs": [
    {
     "data": {
      "image/png": "[encoded data removed]",
      "text/plain": [
       "<Figure size 432x288 with 1 Axes>"
      ]
     },
     "metadata": {
      "needs_background": "light"
     },
     "output_type": "display_data"
    }
   ],
   "source": [
    "# print(health_data.info())\n",
    "import matplotlib.pyplot as plt\n",
    "health_data.plot(x=\"Line Item\", y='Amount (US$, Millions)', kind='scatter')\n",
    "plt.ylim(ymin= 0)\n",
    "plt.xlim(xmin= 0)\n",
    "# plt.scatter()\n",
    "plt.show()"
   ]
  },
  {
   "cell_type": "code",
   "execution_count": 14,
   "id": "6da9e5a9",
   "metadata": {},
   "outputs": [
    {
     "name": "stdout",
     "output_type": "stream",
     "text": [
      "       Fiscal Year  Amount (US$, Millions)\n",
      "count    61.000000               61.000000\n",
      "mean   2009.491803            18309.180328\n",
      "std       0.504082            33388.603554\n",
      "min    2009.000000            -3043.000000\n",
      "25%    2009.000000              625.000000\n",
      "50%    2009.000000             1581.000000\n",
      "75%    2010.000000            18467.000000\n",
      "max    2010.000000           128577.000000\n",
      "This is the 10th percentile: 2707.0\n"
     ]
    }
   ],
   "source": [
    "print(health_data.describe())\n",
    "Max_Amount = health_data[\"Amount (US$, Millions)\"]\n",
    "percentile10 = np.percentile(Max_Amount, 60)\n",
    "print(f\"This is the 10th percentile: {percentile10}\")"
   ]
  },
  {
   "cell_type": "code",
   "execution_count": 24,
   "id": "f7c338b8",
   "metadata": {},
   "outputs": [
    {
     "name": "stdout",
     "output_type": "stream",
     "text": [
      "This is for std: Fiscal Year                   0.499933\n",
      "Amount (US$, Millions)    33113.795560\n",
      "dtype: float64\n",
      "Fiscal Year               2.499328e-01\n",
      "Amount (US$, Millions)    1.096523e+09\n",
      "dtype: float64\n",
      "This is for variance: Fiscal Year               2.499328e-01\n",
      "Amount (US$, Millions)    1.096523e+09\n",
      "dtype: float64\n"
     ]
    }
   ],
   "source": [
    "import math\n",
    "std = np.std(health_data)\n",
    "print(f\"This is for std: {std}\")\n",
    "var = np.var(health_data)\n",
    "print(std * std)\n",
    "print(f\"This is for variance: {var}\")\n",
    "      "
   ]
  }
 ],
 "metadata": {
  "kernelspec": {
   "display_name": "Python 3 (ipykernel)",
   "language": "python",
   "name": "python3"
  },
  "language_info": {
   "codemirror_mode": {
    "name": "ipython",
    "version": 3
   },
   "file_extension": ".py",
   "mimetype": "text/x-python",
   "name": "python",
   "nbconvert_exporter": "python",
   "pygments_lexer": "ipython3",
   "version": "3.9.4"
  }
 },
 "nbformat": 4,
 "nbformat_minor": 5
}
